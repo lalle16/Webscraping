{
 "cells": [
  {
   "cell_type": "markdown",
   "id": "714f97c3-4038-4153-8079-3ac0a14c2040",
   "metadata": {},
   "source": [
    "## Webscraping Danish News sites"
   ]
  },
  {
   "cell_type": "markdown",
   "id": "282a3bd5-8390-47b4-92c9-5ec83c75ff39",
   "metadata": {},
   "source": [
    "This is a webscraper to gather news from the most popular Danish media:  \n",
    "- TV2 Nyheder  \n",
    "- BT Nyheder  \n",
    "- DR\n",
    "- Ekstrabladet  \n",
    "\n",
    "The structure of the sites are abit different, but the overall method is:  \n",
    "- Navigate to news front page, accept cookies and expand dynamic content to get a fair amount of recent news.\n",
    "- Identify all real articles and corresponding links.  \n",
    "- Visit each link and extract article text along with the title.  \n",
    "- Create dataframe with all news.  \n",
    "  \n",
    "\n",
    "I use Selenium with Chrome to navigate dynamic content and then Requests and BeautifulSoup for the actual extraction."
   ]
  },
  {
   "cell_type": "code",
   "execution_count": 1,
   "id": "832b4fe0-c0a7-4e82-a4f4-19c412571cba",
   "metadata": {},
   "outputs": [],
   "source": [
    "# Import libraries\n",
    "from webdriver_manager.chrome import ChromeDriverManager\n",
    "from selenium import webdriver\n",
    "from selenium.webdriver.chrome.service import Service\n",
    "from selenium.webdriver.support.ui import WebDriverWait\n",
    "from selenium.webdriver.common.by import By\n",
    "from selenium.webdriver.common.action_chains import ActionChains\n",
    "from selenium.common.exceptions import NoSuchElementException\n",
    "from selenium.common.exceptions import StaleElementReferenceException\n",
    "from selenium.webdriver.support.ui import WebDriverWait\n",
    "from selenium.webdriver.support import expected_conditions as EC\n",
    "import requests\n",
    "from bs4 import BeautifulSoup\n",
    "import re\n",
    "import pandas as pd\n",
    "import datetime\n",
    "import os\n",
    "from tqdm.notebook import tqdm_notebook\n",
    "import time\n",
    "\n",
    "pd.options.display.max_colwidth = 500"
   ]
  },
  {
   "cell_type": "code",
   "execution_count": null,
   "id": "6b439289-6c61-47f5-b2ff-b305087ec84e",
   "metadata": {},
   "outputs": [],
   "source": [
    "# Open Chrome\n",
    "driver = webdriver.Chrome(service=Service(ChromeDriverManager().install()))"
   ]
  },
  {
   "cell_type": "markdown",
   "id": "f64ba7db-7242-49f6-88a0-d959c159b06d",
   "metadata": {},
   "source": [
    "### TV2 Nyheder"
   ]
  },
  {
   "cell_type": "code",
   "execution_count": 3,
   "id": "b6967708-f70f-42a0-96f0-d12163b7620e",
   "metadata": {},
   "outputs": [],
   "source": [
    "driver.get('https://nyheder.tv2.dk')"
   ]
  },
  {
   "cell_type": "code",
   "execution_count": 4,
   "id": "8ead04ee-531c-4457-b139-d371739a16e5",
   "metadata": {
    "scrolled": true,
    "tags": []
   },
   "outputs": [],
   "source": [
    "# Accepting cookies\n",
    "ignored_exceptions=(NoSuchElementException,StaleElementReferenceException,)\n",
    "WebDriverWait(driver, 10,ignored_exceptions=ignored_exceptions)\\\n",
    "                        .until(EC.presence_of_element_located((By.XPATH,'//button[@class=\"sc-ifAKCX dvvOSu\"]'))).click()"
   ]
  },
  {
   "cell_type": "code",
   "execution_count": 5,
   "id": "b2d51754-404c-4afc-a95d-6db090c74078",
   "metadata": {
    "scrolled": true,
    "tags": []
   },
   "outputs": [],
   "source": [
    "# Expanding dynamic content by clicking \"Load more\" - increase range for more news\n",
    "time.sleep(10)\n",
    "for i in range(5):\n",
    "    time.sleep(1)\n",
    "    ActionChains(driver).move_to_element(WebDriverWait(driver, 10,ignored_exceptions=ignored_exceptions)\\\n",
    "                                         .until(EC.element_to_be_clickable((By.XPATH, '//div[@class=\"tc_load-more js-tc_load-more__context\"]')))).click().perform()"
   ]
  },
  {
   "cell_type": "code",
   "execution_count": 6,
   "id": "17b3bfee-88b2-4874-abca-aa44854884e1",
   "metadata": {},
   "outputs": [],
   "source": [
    "html = driver.page_source\n",
    "# Convert to soup object\n",
    "soup = BeautifulSoup(html)"
   ]
  },
  {
   "cell_type": "code",
   "execution_count": 7,
   "id": "5e985812-1d70-41d6-8a6b-880c022cb5e6",
   "metadata": {},
   "outputs": [],
   "source": [
    "# Generate links\n",
    "links = []\n",
    "for l in soup.find_all('article'):\n",
    "    links.append(l.find('a')['href'])\n",
    "\n",
    "# Exclude LIVE\n",
    "links = links[1:]"
   ]
  },
  {
   "cell_type": "code",
   "execution_count": 8,
   "id": "0099d44e-1326-4c6e-b50d-20a31b334f1d",
   "metadata": {},
   "outputs": [],
   "source": [
    "page = requests.get(links[5])\n",
    "soup = BeautifulSoup(page.content, \"html.parser\")\n",
    "soup_p = soup.find(\"div\", class_=\"tc_page__body\")\n",
    "soup_p2 = soup.find(\"h1\")"
   ]
  },
  {
   "cell_type": "code",
   "execution_count": 9,
   "id": "5f702cb4-0df9-4081-b5a0-fb26b117e9f2",
   "metadata": {},
   "outputs": [
    {
     "data": {
      "application/vnd.jupyter.widget-view+json": {
       "model_id": "e8f7225d16414c2389ed421d3c33c85e",
       "version_major": 2,
       "version_minor": 0
      },
      "text/plain": [
       "  0%|          | 0/82 [00:00<?, ?it/s]"
      ]
     },
     "metadata": {},
     "output_type": "display_data"
    }
   ],
   "source": [
    "# Extract content from article links\n",
    "content_dict = {}\n",
    "titles_dict = {}\n",
    "\n",
    "# Loop through all article pages\n",
    "for l in tqdm_notebook(range(len(links))):\n",
    "\n",
    "    try:\n",
    "        page = requests.get(links[l])\n",
    "        soup = BeautifulSoup(page.content, \"html.parser\")\n",
    "        soup_p = soup.find(\"div\", class_=\"tc_page__body\")\n",
    "        soup_p2 = soup.find(\"h1\")\n",
    "\n",
    "        content = soup_p.text\n",
    "        titles = soup_p2.text\n",
    "\n",
    "        content_dict[l] = content\n",
    "        titles_dict[l] = titles\n",
    "    # Ignore errors on items that are not real articles - quick'n'dirty style\n",
    "    except (AttributeError):\n",
    "        pass"
   ]
  },
  {
   "cell_type": "code",
   "execution_count": 10,
   "id": "66abdb0c-5c08-4211-8c19-564d1d0c8d92",
   "metadata": {},
   "outputs": [],
   "source": [
    "# Create dataframe with articles\n",
    "links_df = pd.DataFrame(links,columns=['link'])\n",
    "titles_df = pd.DataFrame.from_dict(titles_dict,orient='index',columns=['title']).reset_index()\n",
    "content_df = pd.DataFrame.from_dict(content_dict,orient='index',columns=['content']).reset_index()\n",
    "articles_tv2_df = pd.concat([titles_df,content_df,links_df],axis=1,join='inner').drop(['index'],axis=1)"
   ]
  },
  {
   "cell_type": "code",
   "execution_count": 11,
   "id": "556ec1e1-8926-4b5a-b723-895c2800e8fa",
   "metadata": {},
   "outputs": [],
   "source": [
    "articles_tv2_df['medie'] = 'TV2'"
   ]
  },
  {
   "cell_type": "markdown",
   "id": "2661c1c6-e09b-46ea-871b-13f5bd71586c",
   "metadata": {},
   "source": [
    "### BT Nyheder"
   ]
  },
  {
   "cell_type": "code",
   "execution_count": 12,
   "id": "4fa51014-e30d-4512-a85a-16da6790b92b",
   "metadata": {},
   "outputs": [],
   "source": [
    "driver.get('https://www.bt.dk/nyheder')"
   ]
  },
  {
   "cell_type": "code",
   "execution_count": 13,
   "id": "00d41b1b-d9a2-4125-ae5c-5d02b15a3a64",
   "metadata": {},
   "outputs": [],
   "source": [
    "# Accepting cookies\n",
    "driver.implicitly_wait(10)\n",
    "driver.find_element(By.ID,'CybotCookiebotDialogBodyLevelButtonLevelOptinAllowAll').click()"
   ]
  },
  {
   "cell_type": "code",
   "execution_count": 14,
   "id": "947109ad-c0c3-46be-bfc2-44638bd36211",
   "metadata": {},
   "outputs": [],
   "source": [
    "# Expanding dynamic content by clicking \"Load more\"\n",
    "for i in range(5):\n",
    "    driver.find_element(By.XPATH,'//a[contains(text(), \"Indlæs\\n                flere\")]').click()"
   ]
  },
  {
   "cell_type": "code",
   "execution_count": 15,
   "id": "07bbe3f6-e242-4f36-97a9-6042f27bd182",
   "metadata": {
    "scrolled": true,
    "tags": []
   },
   "outputs": [],
   "source": [
    "# Extract HTML\n",
    "driver.implicitly_wait(10)\n",
    "html = driver.page_source\n",
    "# Convert to soup object\n",
    "soup = BeautifulSoup(html)"
   ]
  },
  {
   "cell_type": "code",
   "execution_count": 16,
   "id": "1cd9d4b6-ef57-4e92-8c59-2ee02e89ec7d",
   "metadata": {},
   "outputs": [],
   "source": [
    "# Generate links\n",
    "links = []\n",
    "for l in soup.find_all('article',class_=\"teaser teaser--flat cat-news\"):\n",
    "    links.append(l.find('a')['data-lpurl'])\n",
    "\n",
    "# Exclude LIVE\n",
    "links = links[1:]"
   ]
  },
  {
   "cell_type": "code",
   "execution_count": 17,
   "id": "317f07a1-8e01-4f2e-a876-902f44052755",
   "metadata": {},
   "outputs": [
    {
     "data": {
      "application/vnd.jupyter.widget-view+json": {
       "model_id": "b64e8222f49d41f5a2c6378ac37d7461",
       "version_major": 2,
       "version_minor": 0
      },
      "text/plain": [
       "  0%|          | 0/52 [00:00<?, ?it/s]"
      ]
     },
     "metadata": {},
     "output_type": "display_data"
    }
   ],
   "source": [
    "# Extract content\n",
    "content_dict = {}\n",
    "titles_dict = {}\n",
    "\n",
    "# Loop through all article pages\n",
    "for l in tqdm_notebook(range(len(links))):\n",
    "    \n",
    "    try:\n",
    "        page = requests.get(links[l])\n",
    "        soup = BeautifulSoup(page.content, \"html.parser\")\n",
    "        soup_p = soup.find(\"div\", class_=\"article-content\")\n",
    "        soup_p2 = soup.find(\"h1\", class_=\"article-title\")\n",
    "\n",
    "        content = soup_p.text\n",
    "        titles = soup_p2.text\n",
    "\n",
    "        # Clean text\n",
    "        content = content.replace('\\n',' ')\n",
    "        content = re.sub(r\" +\",\" \",content)\n",
    "        content_dict[l] = content\n",
    "\n",
    "        titles = titles.replace('\\n',' ')\n",
    "        titles = re.sub(r\" +\",\" \",titles)\n",
    "        titles_dict[l] = titles\n",
    "\n",
    "    # Ignore errors on items that are not real articles - quick'n'dirty style\n",
    "    except (AttributeError):\n",
    "        pass"
   ]
  },
  {
   "cell_type": "code",
   "execution_count": 18,
   "id": "05ff872a-4acf-4046-9c8f-83e2b9e5b5fb",
   "metadata": {},
   "outputs": [],
   "source": [
    "# Create dataframe with articles\n",
    "links_df = pd.DataFrame(links,columns=['link'])\n",
    "titles_df = pd.DataFrame.from_dict(titles_dict,orient='index',columns=['title']).reset_index()\n",
    "content_df = pd.DataFrame.from_dict(content_dict,orient='index',columns=['content']).reset_index()\n",
    "articles_bt_df = pd.concat([titles_df,content_df,links_df],axis=1).drop(['index'],axis=1)"
   ]
  },
  {
   "cell_type": "code",
   "execution_count": 19,
   "id": "eec54070-5cde-4692-8e20-5807f38f9f84",
   "metadata": {},
   "outputs": [],
   "source": [
    "articles_bt_df['medie'] = 'BT'"
   ]
  },
  {
   "cell_type": "markdown",
   "id": "89cd081e-5d26-467d-9f97-af5395d9419f",
   "metadata": {},
   "source": [
    "### DR Nyheder"
   ]
  },
  {
   "cell_type": "code",
   "execution_count": 20,
   "id": "1d15b1ee-eff7-478f-90da-2b9e15a0fa1b",
   "metadata": {},
   "outputs": [],
   "source": [
    "driver.get('https://www.dr.dk/nyheder')"
   ]
  },
  {
   "cell_type": "code",
   "execution_count": 21,
   "id": "bb8f2806-edcf-4d30-9236-5b9f780d46c6",
   "metadata": {},
   "outputs": [],
   "source": [
    "# Accepting cookies\n",
    "driver.implicitly_wait(20)\n",
    "driver.find_element(By.XPATH, \"//button[@class='drcc-button submitAll']\").click()"
   ]
  },
  {
   "cell_type": "code",
   "execution_count": 22,
   "id": "008905bd-b81a-411b-aec0-013327e9f2f7",
   "metadata": {
    "scrolled": true,
    "tags": []
   },
   "outputs": [],
   "source": [
    "# Extract HTML\n",
    "driver.implicitly_wait(10)\n",
    "html = driver.page_source\n",
    "# Convert to soup object\n",
    "soup = BeautifulSoup(html)"
   ]
  },
  {
   "cell_type": "code",
   "execution_count": 23,
   "id": "8f731520-1f7d-499e-bb39-701db1276b11",
   "metadata": {},
   "outputs": [],
   "source": [
    "# Generate links\n",
    "links = []\n",
    "for l in soup.find_all('div',class_='dre-teaser'):\n",
    "    links.append('https://dr.dk/'+l.find('a')['href'])"
   ]
  },
  {
   "cell_type": "code",
   "execution_count": 24,
   "id": "39b7da45-23b9-4851-8cff-daf287bcb48c",
   "metadata": {},
   "outputs": [
    {
     "data": {
      "application/vnd.jupyter.widget-view+json": {
       "model_id": "117ee796cad049079547d7fd28500a48",
       "version_major": 2,
       "version_minor": 0
      },
      "text/plain": [
       "  0%|          | 0/50 [00:00<?, ?it/s]"
      ]
     },
     "metadata": {},
     "output_type": "display_data"
    }
   ],
   "source": [
    "# Extract content\n",
    "content_list = []\n",
    "titles_list = []\n",
    "\n",
    "titles = soup.find_all('h2', class_=\"hydra-latest-news-page-short-news__title dre-variables\")\n",
    "content = soup.find_all(\"article\", class_=\"hydra-latest-news-page-short-news\")   \n",
    "\n",
    "for i in tqdm_notebook(range(len(titles))):\n",
    "    content_list.append(content[i].text)\n",
    "    titles_list.append(titles[i].text)"
   ]
  },
  {
   "cell_type": "code",
   "execution_count": 25,
   "id": "d2970cb2-3191-4000-988b-d39b3084a9c6",
   "metadata": {},
   "outputs": [],
   "source": [
    "# Create dataframe with articles\n",
    "links_df = pd.DataFrame(links,columns=['link'])\n",
    "titles_df = pd.DataFrame(titles_list,columns=['title'])\n",
    "content_df = pd.DataFrame(content_list,columns=['content'])\n",
    "articles_dr_df = pd.concat([links_df,titles_df,content_df],axis=1)"
   ]
  },
  {
   "cell_type": "code",
   "execution_count": 26,
   "id": "cc70324e-3313-4d36-988f-c2098f19c47e",
   "metadata": {},
   "outputs": [],
   "source": [
    "articles_dr_df['medie'] = 'DR'"
   ]
  },
  {
   "cell_type": "markdown",
   "id": "98d83e06-fc8a-491e-9d28-77c124f2d9ac",
   "metadata": {},
   "source": [
    "### Ekstrabladet"
   ]
  },
  {
   "cell_type": "markdown",
   "id": "245d200b-d691-46aa-bed3-305d646a41cf",
   "metadata": {},
   "source": [
    "I use the front page instead of the actual news page because there are many paid articles on the news page."
   ]
  },
  {
   "cell_type": "code",
   "execution_count": 27,
   "id": "9dbcf91d-6c99-4443-b0c8-a0646229b306",
   "metadata": {},
   "outputs": [],
   "source": [
    "# Go to site\n",
    "driver.get(\"https://ekstrabladet.dk/\")"
   ]
  },
  {
   "cell_type": "code",
   "execution_count": 28,
   "id": "cd984250-8c8b-4963-9a03-71c208f439df",
   "metadata": {},
   "outputs": [],
   "source": [
    "# Accepting cookies\n",
    "driver.implicitly_wait(20)\n",
    "driver.find_element(By.XPATH, \"//button[@id='CybotCookiebotDialogBodyLevelButtonLevelOptinAllowAll']\").click()"
   ]
  },
  {
   "cell_type": "code",
   "execution_count": 29,
   "id": "fc4b9003-ed76-4e15-bd32-6e9db872ceeb",
   "metadata": {
    "scrolled": true,
    "tags": []
   },
   "outputs": [],
   "source": [
    "# Extract HTML\n",
    "driver.implicitly_wait(10)\n",
    "html = driver.page_source\n",
    "# Convert to soup object\n",
    "soup = BeautifulSoup(html)"
   ]
  },
  {
   "cell_type": "code",
   "execution_count": 30,
   "id": "7b883608-50d4-4229-bd55-7edec11e4cd1",
   "metadata": {},
   "outputs": [],
   "source": [
    "# Find articles\n",
    "articles = soup.find_all(\"article\")   "
   ]
  },
  {
   "cell_type": "code",
   "execution_count": 31,
   "id": "d8cd2e54-74f0-4b33-a4c3-2b05d26a1739",
   "metadata": {},
   "outputs": [
    {
     "name": "stdout",
     "output_type": "stream",
     "text": [
      "not an article\n"
     ]
    }
   ],
   "source": [
    "# Only keep non-paid articles\n",
    "non_paid = []\n",
    "for a in articles:\n",
    "    try:\n",
    "        if a['data-priority'] != 'A+':\n",
    "            non_paid.append(a)\n",
    "    except KeyError as ke:\n",
    "        print('not an article')"
   ]
  },
  {
   "cell_type": "code",
   "execution_count": 32,
   "id": "736ab1c9-9891-42aa-8d59-d3c255b78360",
   "metadata": {},
   "outputs": [],
   "source": [
    "# Generate links\n",
    "links = []\n",
    "for l in non_paid:\n",
    "    links.append('https://ekstrabladet.dk'+l.find(\"a\")['href'])"
   ]
  },
  {
   "cell_type": "code",
   "execution_count": 33,
   "id": "919e3715-55f1-4e29-9a6d-c3b0ab373339",
   "metadata": {},
   "outputs": [
    {
     "data": {
      "application/vnd.jupyter.widget-view+json": {
       "model_id": "6e9f902d40a44810a27f64853641aa21",
       "version_major": 2,
       "version_minor": 0
      },
      "text/plain": [
       "  0%|          | 0/34 [00:00<?, ?it/s]"
      ]
     },
     "metadata": {},
     "output_type": "display_data"
    }
   ],
   "source": [
    "# Extract content\n",
    "content_dict = {}\n",
    "titles_dict = {}\n",
    "\n",
    "# Loop through all article pages\n",
    "for l in tqdm_notebook(range(len(links))):\n",
    "    page = requests.get(links[l])\n",
    "    soup = BeautifulSoup(page.content, \"html.parser\")\n",
    "    soup_p = soup.find(\"div\", class_=\"article-bodytext\")\n",
    "    soup_p2 = soup.find(\"h1\", class_=\"art-title\")\n",
    "\n",
    "    # Some links are video articles without text, quick'n'dirty ignore\n",
    "    try:\n",
    "        content = soup_p.text\n",
    "        titles = soup_p2.text\n",
    "\n",
    "        # Clean text\n",
    "        content = content.replace('\\n',' ')\n",
    "        content = content.replace('--------- SPLIT ELEMENT ---------',' ')\n",
    "        content = content.replace('\\xa0',' ')\n",
    "        content = re.sub(r\" +\",\" \",content)\n",
    "        content_dict[l] = content\n",
    "\n",
    "        titles = titles.replace('\\n',' ')\n",
    "        titles = re.sub(r\" +\",\" \",titles)\n",
    "        titles_dict[l] = titles\n",
    "\n",
    "    except (AttributeError, NameError):\n",
    "        pass\n"
   ]
  },
  {
   "cell_type": "code",
   "execution_count": 34,
   "id": "b947b042-99d5-4c0e-9091-fc64ac312545",
   "metadata": {},
   "outputs": [],
   "source": [
    "# Create dataframe with articles\n",
    "links_df = pd.DataFrame(links,columns=['link'])\n",
    "titles_df = pd.DataFrame.from_dict(titles_dict,orient='index',columns=['title']).reset_index()\n",
    "content_df = pd.DataFrame.from_dict(content_dict,orient='index',columns=['content']).reset_index()\n",
    "articles_eb_df = pd.concat([links_df,titles_df,content_df],axis=1,join='inner').drop(['index'],axis=1)"
   ]
  },
  {
   "cell_type": "code",
   "execution_count": 35,
   "id": "23551fe4-177d-4690-a322-532fe39a4695",
   "metadata": {},
   "outputs": [],
   "source": [
    "articles_eb_df['medie'] = 'EB'"
   ]
  },
  {
   "cell_type": "markdown",
   "id": "cf4d1467-bb6c-4ef5-a12d-520fcd0228f8",
   "metadata": {
    "tags": []
   },
   "source": [
    "### Concatenation and save"
   ]
  },
  {
   "cell_type": "code",
   "execution_count": 36,
   "id": "1544899e-733c-44a7-bd0b-7cc329125321",
   "metadata": {},
   "outputs": [],
   "source": [
    "articles_df = pd.concat([articles_dr_df,articles_eb_df,articles_tv2_df,articles_bt_df]).reset_index().drop(['index'],axis=1)"
   ]
  },
  {
   "cell_type": "code",
   "execution_count": 37,
   "id": "e53962d8-5de2-4176-9dff-94bb34121fb5",
   "metadata": {},
   "outputs": [
    {
     "name": "stdout",
     "output_type": "stream",
     "text": [
      "<class 'pandas.core.frame.DataFrame'>\n",
      "RangeIndex: 211 entries, 0 to 210\n",
      "Data columns (total 4 columns):\n",
      " #   Column   Non-Null Count  Dtype \n",
      "---  ------   --------------  ----- \n",
      " 0   link     211 non-null    object\n",
      " 1   title    211 non-null    object\n",
      " 2   content  211 non-null    object\n",
      " 3   medie    211 non-null    object\n",
      "dtypes: object(4)\n",
      "memory usage: 6.7+ KB\n"
     ]
    }
   ],
   "source": [
    "articles_df.info()"
   ]
  },
  {
   "cell_type": "code",
   "execution_count": 38,
   "id": "cde7628b-2697-41c4-a96d-6f25472d00eb",
   "metadata": {
    "scrolled": true,
    "tags": []
   },
   "outputs": [
    {
     "data": {
      "text/html": [
       "<div>\n",
       "<style scoped>\n",
       "    .dataframe tbody tr th:only-of-type {\n",
       "        vertical-align: middle;\n",
       "    }\n",
       "\n",
       "    .dataframe tbody tr th {\n",
       "        vertical-align: top;\n",
       "    }\n",
       "\n",
       "    .dataframe thead th {\n",
       "        text-align: right;\n",
       "    }\n",
       "</style>\n",
       "<table border=\"1\" class=\"dataframe\">\n",
       "  <thead>\n",
       "    <tr style=\"text-align: right;\">\n",
       "      <th></th>\n",
       "      <th>link</th>\n",
       "      <th>title</th>\n",
       "      <th>content</th>\n",
       "      <th>medie</th>\n",
       "    </tr>\n",
       "  </thead>\n",
       "  <tbody>\n",
       "    <tr>\n",
       "      <th>0</th>\n",
       "      <td>https://dr.dk//nyheder/seneste/pollensaesonen-er-blevet-laengere-og-vaerre-de-sidste-ti-aar</td>\n",
       "      <td>Pollensæsonen er blevet længere og værre de sidste ti år</td>\n",
       "      <td>18 min. sidenPollensæsonen er blevet længere og værre de sidste ti årLæs opOrdbogTekstAf Frederik PalleNys, kløe og lidt problemer med vejrtrækningen. En stor del af den danske befolkning har de samme problemer i denne periode, og det kan være, at du føler problemerne længere end normalt.Det er der nemlig en god grund til. Den udfordrende pollensæson er nemlig længere, end den tidligere har været. Det viser nye tal fra Astma-Allergi Danmarks pollenkalender ifølge Politiken.De sidste ti år er...</td>\n",
       "      <td>DR</td>\n",
       "    </tr>\n",
       "    <tr>\n",
       "      <th>1</th>\n",
       "      <td>https://dr.dk//nyheder/seneste/se-billederne-kvinde-protesterer-paa-roed-loeber-i-cannes-med-det-ukrainske-flag</td>\n",
       "      <td>Se billederne: Kvinde protesterer på rød løber i Cannes med det ukrainske flag malet på kroppen</td>\n",
       "      <td>59 min. sidenSe billederne: Kvinde protesterer på rød løber i Cannes med det ukrainske flag malet på kroppenSikkerhedsfolk måtte stoppe kvinden, der løb ind på den røde løber til filmfestivalen i Cannes. (Foto: VALERY Hache © Ritzau Scanpix)Læs opOrdbogTekstAf Frederik Palle\"Stop med at voldtage os!\"Det var teksten, der stod skrevet på kvindens krop, da hun i dag løb delvist nøgen ind på den røde løber ved filmfestivalen i Cannes.Udover teksten havde hun også malet det ukrainske flag på sin ...</td>\n",
       "      <td>DR</td>\n",
       "    </tr>\n",
       "    <tr>\n",
       "      <th>2</th>\n",
       "      <td>https://dr.dk//nyheder/seneste/rusland-paastaar-staalvaerk-i-mariupol-er-blevet-fuldstaendigt-befriet</td>\n",
       "      <td>Rusland påstår, at stålværk i Mariupol er 'blevet fuldstændigt befriet'</td>\n",
       "      <td>I dag kl. 21:18Rusland påstår, at stålværk i Mariupol er 'blevet fuldstændigt befriet'Læs opOrdbogTekstAf Maja Lærke MaachIfølge det russiske forsvarsministerium har de sidste ukrainske soldater, der havde forskanset sig på Azovstal-værket, overgivet sig.Området er 'blevet fuldstændigt befriet', lyder det fra ministeriet, skriver Reuters. Angiveligt har 531 ukrainske soldater overgivet sig.Ukraine har ikke bekræftet udmeldingen fra russerne, men den ukrainske præsident er her til aften citer...</td>\n",
       "      <td>DR</td>\n",
       "    </tr>\n",
       "    <tr>\n",
       "      <th>3</th>\n",
       "      <td>https://dr.dk//nyheder/seneste/tornadoer-i-det-vestlige-tyskland-kvaester-40-personer</td>\n",
       "      <td>To tornadoer i det vestlige Tyskland kvæster 40 personer</td>\n",
       "      <td>I dag kl. 21:02To tornadoer i det vestlige Tyskland kvæster 40 personerLæs opOrdbogTekstAf Frederik PalleTo tornadoer har ramt det vestlige Tyskland, og de har sat et stort aftryk. Blandt andet er der 40 personer, som er kvæstet i byen Paderborn. Det skriver tyske Bildzeitung ifølge Ritzau.Ti personer af de 40 er alvorligt sårede.Politiet i Paderborn opfordrer borgere til at blive hjemme. Den offentlige transport er hårdt ramt.Byen Lippstadt er også blandt de mærkede byer, hvor en tornador r...</td>\n",
       "      <td>DR</td>\n",
       "    </tr>\n",
       "    <tr>\n",
       "      <th>4</th>\n",
       "      <td>https://dr.dk//sporten/seneste-sport/atp-reagerer-paa-russisk-udelukkelse-ingen-ranglistepoint-ved-wimbledon</td>\n",
       "      <td>Tennisforbund reagerer på russisk udelukkelse: Ingen ranglistepoint ved Wimbledon</td>\n",
       "      <td>I dag kl. 20:24Tennisforbund reagerer på russisk udelukkelse: Ingen ranglistepoint ved WimbledonDen prestigefyldte grand slam-turnering løber fra den 27. juni til og med den 10. juli. (Foto: pool © Ritzau Scanpix)Læs opOrdbogTekstDer bliver ingen point til verdensranglisten til mandlige deltagere ved årets Wimbledon.Det meddeler Det Internationale Tennisforbund (ATP) på sin hjemmeside fredag.Beslutningen skyldes Wimbledons udelukkelse af russiske og belarusiske spillere, som ATP erklærede si...</td>\n",
       "      <td>DR</td>\n",
       "    </tr>\n",
       "  </tbody>\n",
       "</table>\n",
       "</div>"
      ],
      "text/plain": [
       "                                                                                                              link  \\\n",
       "0                      https://dr.dk//nyheder/seneste/pollensaesonen-er-blevet-laengere-og-vaerre-de-sidste-ti-aar   \n",
       "1  https://dr.dk//nyheder/seneste/se-billederne-kvinde-protesterer-paa-roed-loeber-i-cannes-med-det-ukrainske-flag   \n",
       "2            https://dr.dk//nyheder/seneste/rusland-paastaar-staalvaerk-i-mariupol-er-blevet-fuldstaendigt-befriet   \n",
       "3                            https://dr.dk//nyheder/seneste/tornadoer-i-det-vestlige-tyskland-kvaester-40-personer   \n",
       "4     https://dr.dk//sporten/seneste-sport/atp-reagerer-paa-russisk-udelukkelse-ingen-ranglistepoint-ved-wimbledon   \n",
       "\n",
       "                                                                                             title  \\\n",
       "0                                         Pollensæsonen er blevet længere og værre de sidste ti år   \n",
       "1  Se billederne: Kvinde protesterer på rød løber i Cannes med det ukrainske flag malet på kroppen   \n",
       "2                          Rusland påstår, at stålværk i Mariupol er 'blevet fuldstændigt befriet'   \n",
       "3                                         To tornadoer i det vestlige Tyskland kvæster 40 personer   \n",
       "4                Tennisforbund reagerer på russisk udelukkelse: Ingen ranglistepoint ved Wimbledon   \n",
       "\n",
       "                                                                                                                                                                                                                                                                                                                                                                                                                                                                                                               content  \\\n",
       "0  18 min. sidenPollensæsonen er blevet længere og værre de sidste ti årLæs opOrdbogTekstAf Frederik PalleNys, kløe og lidt problemer med vejrtrækningen. En stor del af den danske befolkning har de samme problemer i denne periode, og det kan være, at du føler problemerne længere end normalt.Det er der nemlig en god grund til. Den udfordrende pollensæson er nemlig længere, end den tidligere har været. Det viser nye tal fra Astma-Allergi Danmarks pollenkalender ifølge Politiken.De sidste ti år er...   \n",
       "1  59 min. sidenSe billederne: Kvinde protesterer på rød løber i Cannes med det ukrainske flag malet på kroppenSikkerhedsfolk måtte stoppe kvinden, der løb ind på den røde løber til filmfestivalen i Cannes. (Foto: VALERY Hache © Ritzau Scanpix)Læs opOrdbogTekstAf Frederik Palle\"Stop med at voldtage os!\"Det var teksten, der stod skrevet på kvindens krop, da hun i dag løb delvist nøgen ind på den røde løber ved filmfestivalen i Cannes.Udover teksten havde hun også malet det ukrainske flag på sin ...   \n",
       "2  I dag kl. 21:18Rusland påstår, at stålværk i Mariupol er 'blevet fuldstændigt befriet'Læs opOrdbogTekstAf Maja Lærke MaachIfølge det russiske forsvarsministerium har de sidste ukrainske soldater, der havde forskanset sig på Azovstal-værket, overgivet sig.Området er 'blevet fuldstændigt befriet', lyder det fra ministeriet, skriver Reuters. Angiveligt har 531 ukrainske soldater overgivet sig.Ukraine har ikke bekræftet udmeldingen fra russerne, men den ukrainske præsident er her til aften citer...   \n",
       "3  I dag kl. 21:02To tornadoer i det vestlige Tyskland kvæster 40 personerLæs opOrdbogTekstAf Frederik PalleTo tornadoer har ramt det vestlige Tyskland, og de har sat et stort aftryk. Blandt andet er der 40 personer, som er kvæstet i byen Paderborn. Det skriver tyske Bildzeitung ifølge Ritzau.Ti personer af de 40 er alvorligt sårede.Politiet i Paderborn opfordrer borgere til at blive hjemme. Den offentlige transport er hårdt ramt.Byen Lippstadt er også blandt de mærkede byer, hvor en tornador r...   \n",
       "4  I dag kl. 20:24Tennisforbund reagerer på russisk udelukkelse: Ingen ranglistepoint ved WimbledonDen prestigefyldte grand slam-turnering løber fra den 27. juni til og med den 10. juli. (Foto: pool © Ritzau Scanpix)Læs opOrdbogTekstDer bliver ingen point til verdensranglisten til mandlige deltagere ved årets Wimbledon.Det meddeler Det Internationale Tennisforbund (ATP) på sin hjemmeside fredag.Beslutningen skyldes Wimbledons udelukkelse af russiske og belarusiske spillere, som ATP erklærede si...   \n",
       "\n",
       "  medie  \n",
       "0    DR  \n",
       "1    DR  \n",
       "2    DR  \n",
       "3    DR  \n",
       "4    DR  "
      ]
     },
     "execution_count": 38,
     "metadata": {},
     "output_type": "execute_result"
    }
   ],
   "source": [
    "articles_df.head()"
   ]
  },
  {
   "cell_type": "code",
   "execution_count": 50,
   "id": "dafd9eab-8d8d-4a33-957e-2f224794a4b7",
   "metadata": {},
   "outputs": [
    {
     "data": {
      "text/plain": [
       "TV2    75\n",
       "BT     52\n",
       "DR     50\n",
       "EB     34\n",
       "Name: medie, dtype: int64"
      ]
     },
     "execution_count": 50,
     "metadata": {},
     "output_type": "execute_result"
    }
   ],
   "source": [
    "articles_df['medie'].value_counts()"
   ]
  },
  {
   "cell_type": "code",
   "execution_count": 39,
   "id": "6513a3a4-841d-4e8c-8cd1-1f32d5df6d91",
   "metadata": {},
   "outputs": [],
   "source": [
    "def save_df(yn,df,path):\n",
    "    dd = str(datetime.date.today())\n",
    "    if not os.path.exists(path):\n",
    "        os.mkdir(path)\n",
    "    if yn == True:\n",
    "        df.to_csv('{}/articles_{}.csv'.format(path,dd),index=False,encoding='utf-8')\n",
    "        print('Saved')\n",
    "    else:\n",
    "        print('Not saved')      "
   ]
  },
  {
   "cell_type": "code",
   "execution_count": 41,
   "id": "72ecba76-8b7f-450d-8d4b-b787772cc827",
   "metadata": {},
   "outputs": [
    {
     "name": "stdout",
     "output_type": "stream",
     "text": [
      "Saved\n"
     ]
    }
   ],
   "source": [
    "save_df(True,articles_df,r'D:\\OneDrive\\')"
   ]
  },
  {
   "cell_type": "code",
   "execution_count": null,
   "id": "617e6133-29ac-44bf-8797-e950123cd6a7",
   "metadata": {},
   "outputs": [],
   "source": []
  }
 ],
 "metadata": {
  "kernelspec": {
   "display_name": "Python 3 (ipykernel)",
   "language": "python",
   "name": "python3"
  },
  "language_info": {
   "codemirror_mode": {
    "name": "ipython",
    "version": 3
   },
   "file_extension": ".py",
   "mimetype": "text/x-python",
   "name": "python",
   "nbconvert_exporter": "python",
   "pygments_lexer": "ipython3",
   "version": "3.9.7"
  }
 },
 "nbformat": 4,
 "nbformat_minor": 5
}
